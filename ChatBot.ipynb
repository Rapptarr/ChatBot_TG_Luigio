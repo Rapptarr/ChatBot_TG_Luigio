{
  "nbformat": 4,
  "nbformat_minor": 0,
  "metadata": {
    "colab": {
      "provenance": [],
      "mount_file_id": "1crKzdT8xTXhmQ5K3GdspYzNAa94Btt-o",
      "authorship_tag": "ABX9TyMpEUrJrofWAWzS5CC0iaHe",
      "include_colab_link": true
    },
    "kernelspec": {
      "name": "python3",
      "display_name": "Python 3"
    },
    "language_info": {
      "name": "python"
    }
  },
  "cells": [
    {
      "cell_type": "markdown",
      "metadata": {
        "id": "view-in-github",
        "colab_type": "text"
      },
      "source": [
        "<a href=\"https://colab.research.google.com/github/Rapptarr/ChatBot_TG_Luigio/blob/main/ChatBot.ipynb\" target=\"_parent\"><img src=\"https://colab.research.google.com/assets/colab-badge.svg\" alt=\"Open In Colab\"/></a>"
      ]
    },
    {
      "cell_type": "code",
      "source": [
        "pip install pyTelegramBotAPI"
      ],
      "metadata": {
        "colab": {
          "base_uri": "https://localhost:8080/"
        },
        "id": "cM1GIXQwOoBr",
        "outputId": "9d1e066c-2c2e-40a1-ad31-006da63e5a95"
      },
      "execution_count": null,
      "outputs": [
        {
          "output_type": "stream",
          "name": "stdout",
          "text": [
            "Looking in indexes: https://pypi.org/simple, https://us-python.pkg.dev/colab-wheels/public/simple/\n",
            "Requirement already satisfied: pyTelegramBotAPI in /usr/local/lib/python3.8/dist-packages (4.8.0)\n",
            "Requirement already satisfied: requests in /usr/local/lib/python3.8/dist-packages (from pyTelegramBotAPI) (2.28.1)\n",
            "Requirement already satisfied: urllib3<1.27,>=1.21.1 in /usr/local/lib/python3.8/dist-packages (from requests->pyTelegramBotAPI) (1.24.3)\n",
            "Requirement already satisfied: charset-normalizer<3,>=2 in /usr/local/lib/python3.8/dist-packages (from requests->pyTelegramBotAPI) (2.1.1)\n",
            "Requirement already satisfied: idna<4,>=2.5 in /usr/local/lib/python3.8/dist-packages (from requests->pyTelegramBotAPI) (2.10)\n",
            "Requirement already satisfied: certifi>=2017.4.17 in /usr/local/lib/python3.8/dist-packages (from requests->pyTelegramBotAPI) (2022.12.7)\n"
          ]
        }
      ]
    },
    {
      "cell_type": "code",
      "source": [
        "pip install Wikipedia"
      ],
      "metadata": {
        "colab": {
          "base_uri": "https://localhost:8080/"
        },
        "id": "AUcTi8MpOq4T",
        "outputId": "8d171c00-e8a7-462f-90f7-0341a4a28553"
      },
      "execution_count": null,
      "outputs": [
        {
          "output_type": "stream",
          "name": "stdout",
          "text": [
            "Looking in indexes: https://pypi.org/simple, https://us-python.pkg.dev/colab-wheels/public/simple/\n",
            "Requirement already satisfied: Wikipedia in /usr/local/lib/python3.8/dist-packages (1.4.0)\n",
            "Requirement already satisfied: beautifulsoup4 in /usr/local/lib/python3.8/dist-packages (from Wikipedia) (4.6.3)\n",
            "Requirement already satisfied: requests<3.0.0,>=2.0.0 in /usr/local/lib/python3.8/dist-packages (from Wikipedia) (2.28.1)\n",
            "Requirement already satisfied: urllib3<1.27,>=1.21.1 in /usr/local/lib/python3.8/dist-packages (from requests<3.0.0,>=2.0.0->Wikipedia) (1.24.3)\n",
            "Requirement already satisfied: certifi>=2017.4.17 in /usr/local/lib/python3.8/dist-packages (from requests<3.0.0,>=2.0.0->Wikipedia) (2022.12.7)\n",
            "Requirement already satisfied: idna<4,>=2.5 in /usr/local/lib/python3.8/dist-packages (from requests<3.0.0,>=2.0.0->Wikipedia) (2.10)\n",
            "Requirement already satisfied: charset-normalizer<3,>=2 in /usr/local/lib/python3.8/dist-packages (from requests<3.0.0,>=2.0.0->Wikipedia) (2.1.1)\n"
          ]
        }
      ]
    },
    {
      "cell_type": "code",
      "source": [
        "pip install scikit-learn"
      ],
      "metadata": {
        "colab": {
          "base_uri": "https://localhost:8080/"
        },
        "id": "GMksWt9dOsCh",
        "outputId": "00b8e8a4-ce9c-461c-9623-2c68d28524ed"
      },
      "execution_count": null,
      "outputs": [
        {
          "output_type": "stream",
          "name": "stdout",
          "text": [
            "Looking in indexes: https://pypi.org/simple, https://us-python.pkg.dev/colab-wheels/public/simple/\n",
            "Requirement already satisfied: scikit-learn in /usr/local/lib/python3.8/dist-packages (1.0.2)\n",
            "Requirement already satisfied: scipy>=1.1.0 in /usr/local/lib/python3.8/dist-packages (from scikit-learn) (1.7.3)\n",
            "Requirement already satisfied: numpy>=1.14.6 in /usr/local/lib/python3.8/dist-packages (from scikit-learn) (1.21.6)\n",
            "Requirement already satisfied: threadpoolctl>=2.0.0 in /usr/local/lib/python3.8/dist-packages (from scikit-learn) (3.1.0)\n",
            "Requirement already satisfied: joblib>=0.11 in /usr/local/lib/python3.8/dist-packages (from scikit-learn) (1.2.0)\n"
          ]
        }
      ]
    },
    {
      "cell_type": "code",
      "source": [
        "pip install SpeechRecognition"
      ],
      "metadata": {
        "colab": {
          "base_uri": "https://localhost:8080/"
        },
        "id": "RL_drWdmOt-Z",
        "outputId": "e18967ac-9282-4808-a32c-a6c74904b99e"
      },
      "execution_count": null,
      "outputs": [
        {
          "output_type": "stream",
          "name": "stdout",
          "text": [
            "Looking in indexes: https://pypi.org/simple, https://us-python.pkg.dev/colab-wheels/public/simple/\n",
            "Requirement already satisfied: SpeechRecognition in /usr/local/lib/python3.8/dist-packages (3.9.0)\n",
            "Requirement already satisfied: requests>=2.26.0 in /usr/local/lib/python3.8/dist-packages (from SpeechRecognition) (2.28.1)\n",
            "Requirement already satisfied: urllib3<1.27,>=1.21.1 in /usr/local/lib/python3.8/dist-packages (from requests>=2.26.0->SpeechRecognition) (1.24.3)\n",
            "Requirement already satisfied: idna<4,>=2.5 in /usr/local/lib/python3.8/dist-packages (from requests>=2.26.0->SpeechRecognition) (2.10)\n",
            "Requirement already satisfied: certifi>=2017.4.17 in /usr/local/lib/python3.8/dist-packages (from requests>=2.26.0->SpeechRecognition) (2022.12.7)\n",
            "Requirement already satisfied: charset-normalizer<3,>=2 in /usr/local/lib/python3.8/dist-packages (from requests>=2.26.0->SpeechRecognition) (2.1.1)\n"
          ]
        }
      ]
    },
    {
      "cell_type": "code",
      "source": [
        "import os\n",
        "import requests\n",
        "import speech_recognition as sr\n",
        "import subprocess\n",
        "import datetime"
      ],
      "metadata": {
        "id": "sVnSmWoPOwNT"
      },
      "execution_count": null,
      "outputs": []
    },
    {
      "cell_type": "code",
      "source": [
        "import telebot, wikipedia, re\n",
        "from sklearn.feature_extraction.text import CountVectorizer\n",
        "from sklearn.linear_model import LogisticRegression\n",
        "\n",
        "bot = telebot.TeleBot('5710161311:AAGQQSbuKkzJqAn1-tjC3bbxfDWAv6aGQbk')\n",
        "\n",
        "wikipedia.set_lang(\"ru\")"
      ],
      "metadata": {
        "id": "GA8HIW1eOyES"
      },
      "execution_count": null,
      "outputs": []
    },
    {
      "cell_type": "code",
      "source": [
        "def clean_str(r):\n",
        "\tr = r.lower()\n",
        "\tr = [c for c in r if c in alphabet]\n",
        "\treturn ''.join(r)\n",
        "\n",
        "alphabet = ' 1234567890-йцукенгшщзхъфывапролджэячсмитьбюёqwertyuiopasdfghjklzxcvbnm?%.,()!:;'"
      ],
      "metadata": {
        "id": "ITOtWq29O18r"
      },
      "execution_count": null,
      "outputs": []
    },
    {
      "cell_type": "code",
      "source": [
        "from google.colab import drive\n",
        "drive.mount('/content/gdrive')"
      ],
      "metadata": {
        "colab": {
          "base_uri": "https://localhost:8080/"
        },
        "id": "jN2IMuzpO3y5",
        "outputId": "c33af50d-daba-4c3b-958c-5ade3c0bb6a4"
      },
      "execution_count": null,
      "outputs": [
        {
          "output_type": "stream",
          "name": "stdout",
          "text": [
            "Drive already mounted at /content/gdrive; to attempt to forcibly remount, call drive.mount(\"/content/gdrive\", force_remount=True).\n"
          ]
        }
      ]
    },
    {
      "cell_type": "code",
      "source": [
        "def update():\n",
        "\twith open('/content/drive/MyDrive/dialogsBot.txt', encoding='utf-8') as f:\n",
        "\t\tcontent = f.read()\n",
        "\t\n",
        "\tblocks = content.split('\\n')\n",
        "\tdataset = []\n",
        "\t\n",
        "\tfor block in blocks:\n",
        "\t\treplicas = block.split('\\\\')[:2]\n",
        "\t\tif len(replicas) == 2:\n",
        "\t\t\tpair = [clean_str(replicas[0]), clean_str(replicas[1])]\n",
        "\t\t\tif pair[0] and pair[1]:\n",
        "\t\t\t\tdataset.append(pair)\n",
        "\t\n",
        "\tX_text = []\n",
        "\ty = []\n",
        "\t\n",
        "\tfor question, answer in dataset[:10000]:\n",
        "\t\tX_text.append(question)\n",
        "\t\ty += [answer]\n",
        "\t\n",
        "\tglobal vectorizer\n",
        "\tvectorizer = CountVectorizer()\n",
        "\tX = vectorizer.fit_transform(X_text)\n",
        "\t\n",
        "\tglobal clf\n",
        "\tclf = LogisticRegression()\n",
        "\tclf.fit(X, y)\n",
        "\n",
        "update()"
      ],
      "metadata": {
        "id": "a5ao5oKaQqxb"
      },
      "execution_count": null,
      "outputs": []
    },
    {
      "cell_type": "code",
      "source": [
        "def get_generative_replica(text):\n",
        "\ttext_vector = vectorizer.transform([text]).toarray()[0]\n",
        "\tquestion = clf.predict([text_vector])[0]\n",
        "\treturn question"
      ],
      "metadata": {
        "id": "UBC64mD7SB2X"
      },
      "execution_count": null,
      "outputs": []
    },
    {
      "cell_type": "code",
      "source": [
        "def getwiki(s):\n",
        "    try:\n",
        "        ny = wikipedia.page(s)\n",
        "        wikitext=ny.content[:1000]\n",
        "        wikimas=wikitext.split('.')\n",
        "        wikimas = wikimas[:-1]\n",
        "        wikitext2 = ''\n",
        "        for x in wikimas:\n",
        "            if not('==' in x):\n",
        "                if(len((x.strip()))>3):\n",
        "                   wikitext2=wikitext2+x+'.'\n",
        "            else:\n",
        "                break\n",
        "        wikitext2=re.sub('', '', wikitext2)\n",
        "        wikitext2=re.sub('', '', wikitext2)\n",
        "        wikitext2=re.sub('\\{[^\\{\\}]*\\}', '', wikitext2)\n",
        "        return wikitext2\n",
        "    except Exception as e:\n",
        "        return 'В Википедии нет информации об этом'"
      ],
      "metadata": {
        "id": "CMbEC0FWSDkM"
      },
      "execution_count": null,
      "outputs": []
    },
    {
      "cell_type": "code",
      "source": [
        "@bot.message_handler(commands=['start'])\n",
        "def start_message(message):\n",
        "\tbot.send_message(message.chat.id,\"Здравствуйте, Сэр.\")\n",
        "\n",
        "question = \"\"\n",
        "\n",
        "@bot.message_handler(content_types=['text'])\n",
        "def get_text_messages(message):\n",
        "\tcommand = message.text.lower()\n",
        "\tif command ==\"не так\":\n",
        "\t\tbot.send_message(message.from_user.id, \"а как?\")\n",
        "\t\tbot.register_next_step_handler(message, wrong)\n",
        "\telse:\n",
        "\t\tglobal question\n",
        "\t\tquestion = command\n",
        "\t\treply = get_generative_replica(command)\n",
        "\t\tif reply==\"вики \":\n",
        "\t\t\tbot.send_message(message.from_user.id, getwiki(command))\n",
        "\t\telse:\n",
        "\t\t\tbot.send_message(message.from_user.id, reply)\n",
        "\n",
        "def wrong(message):\n",
        "\ta = f\"{question}\\{message.text.lower()} \\n\"\n",
        "\twith open('/content/gdrive/MyDrive/dialogues.txt', \"a\", encoding='utf-8') as f:\n",
        "\t\tf.write(a)\n",
        "\tbot.send_message(message.from_user.id, \"Готово\")\n",
        "\tupdate()"
      ],
      "metadata": {
        "id": "HiIhPa08SEYD"
      },
      "execution_count": null,
      "outputs": []
    },
    {
      "cell_type": "code",
      "source": [
        "logfile = str(datetime.date.today()) + '.log' # формируем имя лог-файла"
      ],
      "metadata": {
        "id": "XvfkbG3eSHxr"
      },
      "execution_count": null,
      "outputs": []
    },
    {
      "cell_type": "code",
      "source": [
        "def audio_to_text(dest_name: str):\n",
        "# Функция для перевода аудио, в формате \".vaw\" в текст\n",
        "    r = sr.Recognizer() \n",
        "    message = sr.AudioFile(dest_name)\n",
        "    with message as source:\n",
        "        audio = r.record(source)\n",
        "    result = r.recognize_google(audio, language=\"ru_RU\") # используя возможности библиотеки распознаем текст, так же тут можно изменять язык распознавания\n",
        "    return result"
      ],
      "metadata": {
        "id": "B_Rne2zbSITi"
      },
      "execution_count": null,
      "outputs": []
    },
    {
      "cell_type": "code",
      "source": [
        "@bot.message_handler(content_types=['voice'])\n",
        "def get_audio_messages(message):\n",
        "    try:\n",
        "        print(\"Started recognition...\")\n",
        "        file_info = bot.get_file(message.voice.file_id)\n",
        "        path = file_info.file_path\n",
        "        fname = os.path.basename(path)\n",
        "        doc = requests.get('https://api.telegram.org/file/bot{0}/{1}'.format('5710161311:AAGQQSbuKkzJqAn1-tjC3bbxfDWAv6aGQbk', file_info.file_path)) \n",
        "        with open(fname+'.oga', 'wb') as f:\n",
        "            f.write(doc.content)\n",
        "        process = subprocess.run(['ffmpeg', '-i', fname+'.oga', fname+'.wav'])\n",
        "        result = audio_to_text(fname+'.wav')\n",
        "        question = get_generative_replica(format(result))\n",
        "        bot.reply_to(message,question)\n",
        "    except sr.UnknownValueError as e:\n",
        "        bot.send_message(message.from_user.id,  \"Прошу прощения, но я не разобрал сообщение, или оно пустое...\")\n",
        "        with open(logfile, 'a', encoding='utf-8') as f:\n",
        "            f.write(str(datetime.datetime.today().strftime(\"%H:%M:%S\")) + ':' + str(message.from_user.id) + ':' + str(message.from_user.first_name) + '_' + str(message.from_user.last_name) + ':' + str(message.from_user.username) +':'+ str(message.from_user.language_code) + ':Message is empty.\\n')\n",
        "    except Exception as e:\n",
        "        bot.send_message(message.from_user.id,  \"Что-то пошло не так\")\n",
        "        with open(logfile, 'a', encoding='utf-8') as f:\n",
        "            f.write(str(datetime.datetime.today().strftime(\"%H:%M:%S\")) + ':' + str(message.from_user.id) + ':' + str(message.from_user.first_name) + '_' + str(message.from_user.last_name) + ':' + str(message.from_user.username) +':'+ str(message.from_user.language_code) +':' + str(e) + '\\n')\n",
        "    finally:\n",
        "        os.remove(fname+'.wav')\n",
        "        os.remove(fname+'.oga')\n",
        "\n",
        "bot.polling(none_stop=True, interval=0)"
      ],
      "metadata": {
        "id": "jUETHHWeSLGT"
      },
      "execution_count": null,
      "outputs": []
    }
  ]
}